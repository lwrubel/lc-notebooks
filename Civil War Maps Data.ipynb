{
 "cells": [
  {
   "cell_type": "markdown",
   "metadata": {},
   "source": [
    "# Using the API to get custom data fields from the Civil War Maps collection"
   ]
  },
  {
   "cell_type": "code",
   "execution_count": 2,
   "metadata": {
    "collapsed": true
   },
   "outputs": [],
   "source": [
    "import requests"
   ]
  },
  {
   "cell_type": "markdown",
   "metadata": {},
   "source": [
    "The function below takes as input the API query. For each result, it gets selected relevant fields. "
   ]
  },
  {
   "cell_type": "code",
   "execution_count": 5,
   "metadata": {
    "collapsed": true
   },
   "outputs": [],
   "source": [
    "def get_items(url, items=[]):\n",
    "    call = requests.get(url)\n",
    "    data = call.json()\n",
    "    results = data['results']\n",
    "    for result in results:\n",
    "        # don't get image from the collection-level result\n",
    "        if \"collection\" not in result.get(\"original_format\") and \"web page\" not in result.get(\"original_format\"):\n",
    "            item_data = {}\n",
    "            item_data[\"item_url\"] = result.get(\"id\")\n",
    "            item_data[\"title\"] = result.get(\"title\")\n",
    "            item_data[\"shelf_id\"] = result.get(\"shelf_id\")\n",
    "            item_data[\"description\"] = result.get(\"description\")[0]\n",
    "            items.append(item_data)\n",
    "    if data[\"pagination\"][\"next\"] is not None: # make sure we haven't hit the end of the pages\n",
    "        next_url = data[\"pagination\"][\"next\"]\n",
    "        get_items(next_url, items)\n",
    "        \n",
    "    return items\n"
   ]
  },
  {
   "cell_type": "markdown",
   "metadata": {},
   "source": [
    "Query within the Civil War Maps collection on the term photocopy. (TODO: broader query on maps, targeting a data range)"
   ]
  },
  {
   "cell_type": "code",
   "execution_count": 6,
   "metadata": {
    "collapsed": false
   },
   "outputs": [],
   "source": [
    "item_list = get_items(\"https://www.loc.gov/collections/civil-war-maps/?fo=json&at=results,pagination&q=photocopy\")"
   ]
  },
  {
   "cell_type": "code",
   "execution_count": 10,
   "metadata": {
    "collapsed": false
   },
   "outputs": [
    {
     "data": {
      "text/plain": [
       "418"
      ]
     },
     "execution_count": 10,
     "metadata": {},
     "output_type": "execute_result"
    }
   ],
   "source": [
    "len(item_list)"
   ]
  },
  {
   "cell_type": "markdown",
   "metadata": {},
   "source": [
    "Turn items into a CSV file:"
   ]
  },
  {
   "cell_type": "code",
   "execution_count": 16,
   "metadata": {
    "collapsed": false
   },
   "outputs": [],
   "source": [
    "import csv\n",
    "\n",
    "with open(\"civil-war-maps-photocopies.csv\", 'w') as output: \n",
    "    fieldnames = [\"item_url\", \"title\", \"shelf_id\", \"description\"]\n",
    "    writer = csv.DictWriter(output, fieldnames=fieldnames)\n",
    "    writer.writeheader()\n",
    "    for item in item_list:\n",
    "        writer.writerow(item)"
   ]
  },
  {
   "cell_type": "markdown",
   "metadata": {},
   "source": [
    "How many lines are in the resulting CSV?"
   ]
  },
  {
   "cell_type": "code",
   "execution_count": 19,
   "metadata": {
    "collapsed": false
   },
   "outputs": [
    {
     "name": "stdout",
     "output_type": "stream",
     "text": [
      "     419 civil-war-maps-photocopies.csv\r\n"
     ]
    }
   ],
   "source": [
    "!wc -l civil-war-maps-photocopies.csv"
   ]
  },
  {
   "cell_type": "markdown",
   "metadata": {},
   "source": [
    "Using csvjoin (part of the [csvkit](https://csvkit.readthedocs.io/) toolkit) to stitch together the API data with the colors data from the [Library of Congress Colors](https://loc-colors.glitch.me/) project. The item's url is the key in each file and used to match rows between the files. "
   ]
  },
  {
   "cell_type": "code",
   "execution_count": 14,
   "metadata": {
    "collapsed": true
   },
   "outputs": [],
   "source": [
    "!csvjoin -c item_url,url civil-war-maps-photocopies.csv civil-war-maps.csv > civil-war-maps-joined.csv"
   ]
  },
  {
   "cell_type": "code",
   "execution_count": 18,
   "metadata": {
    "collapsed": false,
    "scrolled": true
   },
   "outputs": [
    {
     "name": "stdout",
     "output_type": "stream",
     "text": [
      "item_url,title,shelf_id,description,color1,color2,color3,color4,color5,color6\r\n",
      "http://www.loc.gov/item/2006626053/,\"Small sketch, first Manassas, July 21, 1861 : situation on Henry Hill at 3 P.M.\",G3884.M25S5 1861 .R8,\"['Hand colored positive photocopy. LC Civil War maps (2nd ed.), 570 Description derived from published bibliography. Available also through the Library of Congress Web site as a raster image.']\",#392a26,#97836e,#b8a48f,#cdc5b4,#625f54,#f0ebd5\r\n"
     ]
    }
   ],
   "source": [
    "!head -2 civil-war-maps-joined.csv"
   ]
  },
  {
   "cell_type": "markdown",
   "metadata": {},
   "source": [
    "This CSV file can now be opened in one of many applications, including Google Sheets or Excel. \n",
    "\n",
    "Using Google App Scripts let me make the background and font color match the hexadecimal color value in the cell. This allows someone to browse the colors and metadata side by side, especially for when the color conveys information about format (e.g. cyanotype). \n",
    "\n",
    "```\n",
    "function colorize() {\n",
    "  var r = SpreadsheetApp.getActive().getSheetByName('civil-war-maps-joined').getRange('E2:J420');\n",
    "  r.setBackgrounds(r.getValues());\n",
    "  r.setFontColors(r.getValues());\n",
    "}\n",
    "```\n",
    "\n"
   ]
  }
 ],
 "metadata": {
  "kernelspec": {
   "display_name": "Python 3",
   "language": "python",
   "name": "python3"
  },
  "language_info": {
   "codemirror_mode": {
    "name": "ipython",
    "version": 3
   },
   "file_extension": ".py",
   "mimetype": "text/x-python",
   "name": "python",
   "nbconvert_exporter": "python",
   "pygments_lexer": "ipython3",
   "version": "3.5.2"
  }
 },
 "nbformat": 4,
 "nbformat_minor": 2
}
